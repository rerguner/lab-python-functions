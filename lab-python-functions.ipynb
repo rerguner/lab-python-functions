{
 "cells": [
  {
   "cell_type": "markdown",
   "id": "25d7736c-ba17-4aff-b6bb-66eba20fbf4e",
   "metadata": {},
   "source": [
    "# Lab | Functions"
   ]
  },
  {
   "cell_type": "markdown",
   "id": "0c581062-8967-4d93-b06e-62833222f930",
   "metadata": {
    "tags": []
   },
   "source": [
    "## Exercise: Managing Customer Orders with Functions\n",
    "\n",
    "In the previous exercise, you improved the code for managing customer orders by using loops and flow control. Now, let's take it a step further and refactor the code by introducing functions.\n",
    "\n",
    "Follow the steps below to complete the exercise:\n",
    "\n",
    "1. Define a function named `initialize_inventory` that takes `products` as a parameter. Inside the function, implement the code for initializing the inventory dictionary using a loop and user input.\n",
    "\n",
    "2. Define a function named `get_customer_orders` that takes no parameters. Inside the function, implement the code for prompting the user to enter the product names using a loop. The function should return the `customer_orders` set.\n",
    "\n",
    "3. Define a function named `update_inventory` that takes `customer_orders` and `inventory` as parameters. Inside the function, implement the code for updating the inventory dictionary based on the customer orders.\n",
    "\n",
    "4. Define a function named `calculate_order_statistics` that takes `customer_orders` and `products` as parameters. Inside the function, implement the code for calculating the order statistics (total products ordered, and percentage of unique products ordered). The function should return these values.\n",
    "\n",
    "5. Define a function named `print_order_statistics` that takes `order_statistics` as a parameter. Inside the function, implement the code for printing the order statistics.\n",
    "\n",
    "6. Define a function named `print_updated_inventory` that takes `inventory` as a parameter. Inside the function, implement the code for printing the updated inventory.\n",
    "\n",
    "7. Call the functions in the appropriate sequence to execute the program and manage customer orders.\n",
    "\n",
    "Hints for functions:\n",
    "\n",
    "- Consider the input parameters required for each function and their return values.\n",
    "- Utilize function parameters and return values to transfer data between functions.\n",
    "- Test your functions individually to ensure they work correctly.\n",
    "\n",
    "\n"
   ]
  },
  {
   "cell_type": "code",
   "execution_count": 1,
   "id": "a3c319ff",
   "metadata": {},
   "outputs": [
    {
     "data": {
      "text/plain": [
       "{'mug': 1, 'book': 1, 'tshirt': 1, 'pen': 1, 'umbrella': 1}"
      ]
     },
     "execution_count": 1,
     "metadata": {},
     "output_type": "execute_result"
    }
   ],
   "source": [
    "#initialize_inventroy function\n",
    "\"\"\" that takes `products` as a parameter. Inside the function, \n",
    "implement the code for initializing the inventory dictionary using a loop and user input.\"\"\"\n",
    "\n",
    "products = ['mug', 'book', 'tshirt', 'pen', 'umbrella']\n",
    "\n",
    "def initialize_inventory (products):\n",
    "    inventory = {}\n",
    "    for product in products:\n",
    "        quantity = int(input(f\"Enter {product} stock: \"))\n",
    "        inventory[product] = quantity\n",
    "    return inventory\n",
    "\n",
    "initialize_inventory(products)\n",
    "\n"
   ]
  },
  {
   "cell_type": "code",
   "execution_count": 2,
   "id": "3453ee42",
   "metadata": {},
   "outputs": [
    {
     "data": {
      "text/plain": [
       "{'mug'}"
      ]
     },
     "execution_count": 2,
     "metadata": {},
     "output_type": "execute_result"
    }
   ],
   "source": [
    "#get_customer_orders function\n",
    "\"\"\"that takes no parameters. Inside the function, implement the code for prompting the user to enter the product names using a loop. \n",
    "The function should return the `customer_orders` set.\"\"\"\n",
    "\n",
    "\n",
    "def get_customer_orders():\n",
    "     customer_orders = set()\n",
    "     order_flag = True\n",
    "     while order_flag:\n",
    "          product_name = input(f\"Enter Product Name You want to order: \")\n",
    "          customer_orders.add(product_name)\n",
    "          customer_selection = input(\"Do you want to add another item (Yes/No)? : \").lstrip()\n",
    "          if customer_selection != \"Yes\":\n",
    "               order_flag = False\n",
    "     return customer_orders\n",
    "\n",
    "get_customer_orders()"
   ]
  },
  {
   "cell_type": "code",
   "execution_count": 4,
   "id": "4abf2816",
   "metadata": {},
   "outputs": [],
   "source": [
    "# update inventory function\n",
    "\"\"\"that takes `customer_orders` and `inventory` as parameters. \n",
    "Inside the function, implement the code for updating the inventory dictionary based on the customer orders.\"\"\"\n",
    "\n",
    "def update_inventory(customer_orders, inventory):\n",
    "    for product in customer_orders:\n",
    "        inventory[product] -= 1\n",
    "    return inventory\n",
    "\n"
   ]
  },
  {
   "cell_type": "code",
   "execution_count": 6,
   "id": "df40205e",
   "metadata": {},
   "outputs": [],
   "source": [
    "# calculate_order_statistics function\n",
    "\"\"\"that takes `customer_orders` and `products` as parameters. Inside the function, \n",
    "implement the code for calculating the order statistics (total products ordered, and percentage of unique products ordered). \n",
    "The function should return these values.\"\"\"\n",
    "\n",
    "def calculate_order_statistics(customer_orders, products):\n",
    "    total_products_ordered = len(customer_orders)\n",
    "    pct_unique_products_ordered = (len(customer_orders)/ len(inventory.keys()))*100\n",
    "    return total_products_ordered, pct_unique_products_ordered\n",
    "\n"
   ]
  },
  {
   "cell_type": "code",
   "execution_count": 36,
   "id": "a08261cd",
   "metadata": {},
   "outputs": [],
   "source": [
    "# print_order_statistics function\n",
    "\"\"\"that takes `order_statistics` as a parameter. Inside the function, implement the code for printing the order statistics.\"\"\"\n",
    "\n",
    "def print_order_statistics(calculate_order_statistics):\n",
    "    total_products_ordered, pct_unique_products_ordered = calculate_order_statistics\n",
    "    print(\"Total Products Ordered:\",total_products_ordered)\n",
    "    print(\"Percentage of Unique Products Ordered: \", pct_unique_products_ordered)\n"
   ]
  },
  {
   "cell_type": "code",
   "execution_count": null,
   "id": "624b8c93",
   "metadata": {},
   "outputs": [],
   "source": [
    "# print_updated_inventory function\n",
    "\"\"\"that takes `inventory` as a parameter. Inside the function, implement the code for printing the updated inventory.\"\"\"\n",
    "\n",
    "def print_updated_inventory (inventory):\n",
    "     print(\"Updated Inventory after Customer Orders: \")\n",
    "     for key, value in inventory.items():\n",
    "        print(f\"{key}: {value}\")"
   ]
  },
  {
   "cell_type": "code",
   "execution_count": 38,
   "id": "b6e8eb3e",
   "metadata": {},
   "outputs": [
    {
     "name": "stdout",
     "output_type": "stream",
     "text": [
      "Total Products Ordered: 1\n",
      "Percentage of Unique Products Ordered:  20.0\n",
      "Updated Inventory: \n",
      "mug: 0\n",
      "book: 1\n",
      "tshirt: 1\n",
      "pen: 1\n",
      "umbrella: 1\n"
     ]
    }
   ],
   "source": [
    "# Call functions\n",
    "\n",
    "products = ['mug', 'book', 'tshirt', 'pen', 'umbrella']\n",
    "inventory = initialize_inventory(products)\n",
    "customer_orders = get_customer_orders()\n",
    "update_inventory(customer_orders,inventory)\n",
    "calculate_order_statistics(customer_orders, products)\n",
    "print_order_statistics(calculate_order_statistics(customer_orders,products))\n",
    "print_updated_inventory (inventory)"
   ]
  },
  {
   "cell_type": "code",
   "execution_count": null,
   "id": "c69105bb",
   "metadata": {},
   "outputs": [],
   "source": []
  }
 ],
 "metadata": {
  "kernelspec": {
   "display_name": "base",
   "language": "python",
   "name": "python3"
  },
  "language_info": {
   "codemirror_mode": {
    "name": "ipython",
    "version": 3
   },
   "file_extension": ".py",
   "mimetype": "text/x-python",
   "name": "python",
   "nbconvert_exporter": "python",
   "pygments_lexer": "ipython3",
   "version": "3.12.7"
  }
 },
 "nbformat": 4,
 "nbformat_minor": 5
}
